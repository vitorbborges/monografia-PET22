{
 "cells": [
  {
   "cell_type": "code",
   "execution_count": 2,
   "metadata": {},
   "outputs": [],
   "source": [
    "import warnings\n",
    "warnings.filterwarnings(\"ignore\")\n",
    "\n",
    "from utils import dataset, save_bow\n",
    "import pandas as pd\n",
    "import numpy as np\n",
    "\n",
    "#gensim\n",
    "from gensim.corpora import Dictionary\n",
    "from gensim.utils import simple_preprocess\n",
    "from gensim.models import Phrases, phrases\n",
    "\n",
    "#spacy\n",
    "import spacy\n",
    "\n",
    "#tqdm\n",
    "from tqdm import tqdm"
   ]
  },
  {
   "cell_type": "code",
   "execution_count": 4,
   "metadata": {},
   "outputs": [],
   "source": [
    "corpus_name = '25_venues'\n",
    "df = dataset()\n",
    "df = df.iloc[np.where(~df['Abstract'].isna())]"
   ]
  },
  {
   "cell_type": "code",
   "execution_count": 5,
   "metadata": {},
   "outputs": [
    {
     "data": {
      "text/plain": [
       "164756"
      ]
     },
     "execution_count": 5,
     "metadata": {},
     "output_type": "execute_result"
    }
   ],
   "source": [
    "len(df)"
   ]
  },
  {
   "cell_type": "code",
   "execution_count": 6,
   "metadata": {},
   "outputs": [
    {
     "name": "stderr",
     "output_type": "stream",
     "text": [
      "100%|██████████| 164756/164756 [41:57<00:00, 65.45it/s]  \n"
     ]
    }
   ],
   "source": [
    "def lemmatization(texts, allowed_postags=[\"NOUN\", \"ADJ\", \"VERB\", \"ADV\"]):\n",
    "    nlp = spacy.load(\"en_core_web_sm\", disable=[\"parser\", \"ner\"])\n",
    "    lemmatized = list(tqdm(nlp.pipe(texts, batch_size=1000, n_process=-1), total=len(texts)))\n",
    "    lemmatized = [\" \".join([token.lemma_ for token in text if token.pos_ in allowed_postags]) for text in lemmatized]\n",
    "    return lemmatized\n",
    "\n",
    "df['lemmatized']  = lemmatization(df['Abstract'])"
   ]
  },
  {
   "cell_type": "code",
   "execution_count": 7,
   "metadata": {},
   "outputs": [],
   "source": [
    "# Pre-Process\n",
    "df['lemmatized'] = df['lemmatized'].apply(lambda x: simple_preprocess(x, deacc=True))\n",
    "\n",
    "#Bigrams\n",
    "bigram_phrases = Phrases(df['lemmatized'], min_count=5, threshold=50)\n",
    "bigram = phrases.Phraser(bigram_phrases)\n",
    "df['lemmatized'] = df['lemmatized'].apply(lambda x: bigram[x])"
   ]
  },
  {
   "cell_type": "code",
   "execution_count": 15,
   "metadata": {},
   "outputs": [],
   "source": [
    "# save the df\n",
    "df.to_csv(f'./database/{corpus_name}_lemmatized.csv', index=False)\n",
    "save_bow(df['lemmatized'].tolist(), corpus_name)"
   ]
  }
 ],
 "metadata": {
  "kernelspec": {
   "display_name": "Python 3",
   "language": "python",
   "name": "python3"
  },
  "language_info": {
   "codemirror_mode": {
    "name": "ipython",
    "version": 3
   },
   "file_extension": ".py",
   "mimetype": "text/x-python",
   "name": "python",
   "nbconvert_exporter": "python",
   "pygments_lexer": "ipython3",
   "version": "3.10.4"
  },
  "orig_nbformat": 4,
  "vscode": {
   "interpreter": {
    "hash": "5fe3e6f0cdaab8afdc61c52912fda83f7c0a71baaea1897dd7498e2df01e69ec"
   }
  }
 },
 "nbformat": 4,
 "nbformat_minor": 2
}
