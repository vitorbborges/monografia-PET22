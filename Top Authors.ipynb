{
 "cells": [
  {
   "cell_type": "code",
   "execution_count": 1,
   "metadata": {},
   "outputs": [],
   "source": [
    "import warnings\n",
    "warnings.filterwarnings(\"ignore\")\n",
    "\n",
    "from utils import dataset, load_bow\n",
    "import pandas as pd\n",
    "from datetime import datetime\n",
    "from itertools import chain\n",
    "import numpy as np"
   ]
  },
  {
   "cell_type": "code",
   "execution_count": 2,
   "metadata": {},
   "outputs": [],
   "source": [
    "w = 1"
   ]
  },
  {
   "cell_type": "code",
   "execution_count": 3,
   "metadata": {},
   "outputs": [],
   "source": [
    "col = [\n",
    "    'Publication Type', \\\n",
    "    'Venue', \\\n",
    "    'Author Full Names', \\\n",
    "    'Article Title', \\\n",
    "    'Abstract', \\\n",
    "    'Publication Date', \\\n",
    "    'Publication Year']\n",
    "\n",
    "venues = dataset()[col]\n",
    "venues = venues.dropna(subset=['Abstract'])\n",
    "venues['Abstract Lemmatized'] = load_bow('25_venues')\n",
    "venues = venues.dropna(subset=['Publication Date'])\n",
    "venues['Date'] = (venues['Publication Date']+'-'+venues['Publication Year']).apply(lambda x: datetime.strptime(x, '%b-%Y'))\n",
    "query_dataframe = pd.read_csv('./database/query_dataframe.csv', index_col=1)\n",
    "venues['Venue Full Name'] = venues['Venue'].apply(lambda x : query_dataframe.loc[x, 'Nome'])\n",
    "venues = venues.sort_values(by='Date')\n",
    "venues.index = range(len(venues))"
   ]
  },
  {
   "cell_type": "code",
   "execution_count": 4,
   "metadata": {},
   "outputs": [],
   "source": [
    "authors = venues['Author Full Names']\n",
    "authors = [names.split(';') for names in authors]\n",
    "authors = [[name.strip().upper() for name in names] for names in authors]\n",
    "authors = list(authors)\n",
    "authors = list(chain.from_iterable(authors))\n",
    "authors = sorted(list(set(authors)))"
   ]
  },
  {
   "cell_type": "code",
   "execution_count": 5,
   "metadata": {},
   "outputs": [],
   "source": [
    "authors_dict = {}\n",
    "\n",
    "for author in authors:\n",
    "    authors_dict[author] = []\n",
    "\n",
    "for index, row in venues.iterrows():\n",
    "    for author in row['Author Full Names'].split(';'):\n",
    "        authors_dict[author.upper().strip()].append(row['Article Title'])"
   ]
  },
  {
   "cell_type": "code",
   "execution_count": 6,
   "metadata": {},
   "outputs": [],
   "source": [
    "authors_df = {k: str(v) for k, v in authors_dict.items()}\n",
    "authors_df = pd.DataFrame(authors_df, index = ['Papers']).T\n",
    "authors_df['publications'] = authors_df['Papers'].apply(lambda x: len(eval(x)))\n",
    "authors_df.to_csv('./database/authors.csv')"
   ]
  },
  {
   "cell_type": "code",
   "execution_count": 44,
   "metadata": {},
   "outputs": [
    {
     "name": "stdout",
     "output_type": "stream",
     "text": [
      "8396\n",
      "7284\n",
      "6360\n",
      "5607\n",
      "4976\n",
      "4486\n",
      "4059\n",
      "3709\n",
      "3404\n",
      "3141\n",
      "2920\n",
      "2697\n",
      "2490\n",
      "2340\n",
      "2172\n",
      "2035\n",
      "1923\n",
      "1783\n",
      "1701\n",
      "1606\n",
      "1534\n",
      "1451\n",
      "1374\n",
      "1302\n",
      "1233\n",
      "1163\n",
      "1100\n",
      "1039\n",
      "989\n",
      "945\n",
      "898\n",
      "867\n",
      "811\n",
      "780\n",
      "746\n",
      "711\n",
      "691\n",
      "666\n",
      "635\n",
      "615\n",
      "595\n",
      "563\n",
      "539\n",
      "514\n",
      "498\n",
      "485\n",
      "463\n",
      "445\n",
      "431\n",
      "417\n",
      "405\n",
      "392\n",
      "381\n",
      "364\n",
      "349\n",
      "333\n",
      "317\n",
      "311\n",
      "296\n",
      "280\n",
      "266\n",
      "262\n",
      "257\n",
      "248\n",
      "237\n",
      "233\n",
      "227\n",
      "215\n",
      "207\n",
      "199\n",
      "195\n",
      "191\n",
      "187\n",
      "185\n",
      "175\n",
      "169\n",
      "168\n",
      "165\n",
      "164\n",
      "156\n",
      "149\n",
      "146\n",
      "141\n",
      "137\n",
      "135\n",
      "132\n",
      "126\n",
      "124\n",
      "119\n",
      "116\n",
      "114\n",
      "110\n",
      "107\n",
      "102\n",
      "98\n"
     ]
    }
   ],
   "source": [
    "lenght = 100\n",
    "p = 10\n",
    "while len(top) > lenght:\n",
    "    top = authors_df.iloc[np.where(authors_df['publications'] >= p)].sort_index()\n",
    "    top['pids'] = np.nan\n",
    "    p += 1\n",
    "    print(len(top))\n",
    "top = authors_df.iloc[np.where(authors_df['publications'] >= p-2)].sort_index()\n",
    "top['pids'] = np.nan\n",
    "top.to_csv(f'./database/top_authors/top{lenght}authors.csv')"
   ]
  },
  {
   "cell_type": "code",
   "execution_count": 37,
   "metadata": {},
   "outputs": [
    {
     "data": {
      "text/plain": [
       "2035"
      ]
     },
     "execution_count": 37,
     "metadata": {},
     "output_type": "execute_result"
    }
   ],
   "source": [
    "top = authors_df.iloc[np.where(authors_df['publications'] >= 25)].sort_index()\n",
    "len(top)"
   ]
  },
  {
   "cell_type": "code",
   "execution_count": 34,
   "metadata": {},
   "outputs": [
    {
     "data": {
      "text/plain": [
       "27"
      ]
     },
     "execution_count": 34,
     "metadata": {},
     "output_type": "execute_result"
    }
   ],
   "source": [
    "p"
   ]
  }
 ],
 "metadata": {
  "kernelspec": {
   "display_name": "Python 3",
   "language": "python",
   "name": "python3"
  },
  "language_info": {
   "codemirror_mode": {
    "name": "ipython",
    "version": 3
   },
   "file_extension": ".py",
   "mimetype": "text/x-python",
   "name": "python",
   "nbconvert_exporter": "python",
   "pygments_lexer": "ipython3",
   "version": "3.10.4"
  },
  "orig_nbformat": 4
 },
 "nbformat": 4,
 "nbformat_minor": 2
}
