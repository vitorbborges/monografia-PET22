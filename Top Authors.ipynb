{
 "cells": [
  {
   "cell_type": "code",
   "execution_count": 1,
   "metadata": {},
   "outputs": [],
   "source": [
    "import warnings\n",
    "warnings.filterwarnings(\"ignore\")\n",
    "\n",
    "from utils import dataset, load_bow\n",
    "import pandas as pd\n",
    "from datetime import datetime\n",
    "from itertools import chain\n",
    "import numpy as np"
   ]
  },
  {
   "cell_type": "code",
   "execution_count": 2,
   "metadata": {},
   "outputs": [],
   "source": [
    "w = 1"
   ]
  },
  {
   "cell_type": "code",
   "execution_count": 3,
   "metadata": {},
   "outputs": [],
   "source": [
    "col = [\n",
    "    'Publication Type', \\\n",
    "    'Venue', \\\n",
    "    'Author Full Names', \\\n",
    "    'Article Title', \\\n",
    "    'Abstract', \\\n",
    "    'Publication Date', \\\n",
    "    'Publication Year']\n",
    "\n",
    "venues = dataset()[col]\n",
    "venues = venues.dropna(subset=['Abstract'])\n",
    "venues['Abstract Lemmatized'] = load_bow('25_venues')\n",
    "venues = venues.dropna(subset=['Publication Date'])\n",
    "venues['Date'] = (venues['Publication Date']+'-'+venues['Publication Year']).apply(lambda x: datetime.strptime(x, '%b-%Y'))\n",
    "query_dataframe = pd.read_csv('./database/query_dataframe.csv', index_col=1)\n",
    "venues['Venue Full Name'] = venues['Venue'].apply(lambda x : query_dataframe.loc[x, 'Nome'])\n",
    "venues = venues.sort_values(by='Date')\n",
    "venues.index = range(len(venues))"
   ]
  },
  {
   "cell_type": "code",
   "execution_count": 4,
   "metadata": {},
   "outputs": [],
   "source": [
    "authors = venues['Author Full Names']\n",
    "authors = [names.split(';') for names in authors]\n",
    "authors = [[name.strip().upper() for name in names] for names in authors]\n",
    "authors = list(authors)\n",
    "authors = list(chain.from_iterable(authors))\n",
    "authors = sorted(list(set(authors)))"
   ]
  },
  {
   "cell_type": "code",
   "execution_count": 5,
   "metadata": {},
   "outputs": [],
   "source": [
    "authors_dict = {}\n",
    "\n",
    "for author in authors:\n",
    "    authors_dict[author] = []\n",
    "\n",
    "for index, row in venues.iterrows():\n",
    "    for author in row['Author Full Names'].split(';'):\n",
    "        authors_dict[author.upper().strip()].append(row['Article Title'])"
   ]
  },
  {
   "cell_type": "code",
   "execution_count": 6,
   "metadata": {},
   "outputs": [],
   "source": [
    "authors_df = {k: str(v) for k, v in authors_dict.items()}\n",
    "authors_df = pd.DataFrame(authors_df, index = ['Papers']).T\n",
    "authors_df['publications'] = authors_df['Papers'].apply(lambda x: len(eval(x)))\n",
    "authors_df.to_csv('./database/authors.csv')"
   ]
  },
  {
   "cell_type": "code",
   "execution_count": 48,
   "metadata": {},
   "outputs": [],
   "source": [
    "top = pd.read_csv('./database/1000authors_pids.csv', index_col=0)\n",
    "top['Papers'] = top['Papers'].apply(lambda x: eval(x))\n",
    "dups = top[top.duplicated(subset=['pids'], keep=False)].sort_values('pids')\n",
    "combined_rows = pd.DataFrame(columns=top.columns)\n",
    "\n",
    "for dup in np.unique(dups['pids']):\n",
    "    duplicate_rows = dups[dups['pids'] == dup]\n",
    "    combined_papers = []\n",
    "    for papers in duplicate_rows['Papers']:\n",
    "        combined_papers += papers\n",
    "    combined_row = duplicate_rows.iloc[0].copy()\n",
    "    combined_row['Papers'] = combined_papers\n",
    "    combined_row.name = duplicate_rows.index[0]\n",
    "    combined_rows = combined_rows.append(combined_row)\n",
    "\n",
    "top = top.drop(dups.index)\n",
    "top = top.append(combined_rows)\n",
    "\n",
    "top['publications'] = top['Papers'].apply(lambda x: len(x))"
   ]
  },
  {
   "cell_type": "code",
   "execution_count": 54,
   "metadata": {},
   "outputs": [],
   "source": [
    "lenght = 1000\n",
    "p = 0\n",
    "top_pubs = pd.DataFrame()\n",
    "while len(top_pubs) > lenght:\n",
    "    top_pubs = top.iloc[np.where(top['publications'] >= p)].sort_index()\n",
    "    p += 1\n",
    "top_pubs = top.iloc[np.where(top['publications'] >= p-2)].sort_index()[['Papers', 'publications']]\n",
    "top_pubs['pids'] = np.nan\n",
    "top_pubs.to_csv(f'./database/top_authors/top{lenght}authors.csv')"
   ]
  }
 ],
 "metadata": {
  "kernelspec": {
   "display_name": "Python 3",
   "language": "python",
   "name": "python3"
  },
  "language_info": {
   "codemirror_mode": {
    "name": "ipython",
    "version": 3
   },
   "file_extension": ".py",
   "mimetype": "text/x-python",
   "name": "python",
   "nbconvert_exporter": "python",
   "pygments_lexer": "ipython3",
   "version": "3.10.4"
  },
  "orig_nbformat": 4
 },
 "nbformat": 4,
 "nbformat_minor": 2
}
