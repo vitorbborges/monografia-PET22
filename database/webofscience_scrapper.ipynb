{
 "cells": [
  {
   "cell_type": "code",
   "execution_count": 1,
   "metadata": {},
   "outputs": [],
   "source": [
    "import warnings\n",
    "warnings.filterwarnings(\"ignore\", category=DeprecationWarning)\n",
    "warnings.filterwarnings(\"ignore\")\n",
    "\n",
    "from selenium import webdriver\n",
    "from selenium.webdriver.chrome.service import Service\n",
    "from selenium.webdriver.support.ui import WebDriverWait\n",
    "import os\n",
    "import time\n",
    "import pandas as pd\n",
    "import shutil"
   ]
  },
  {
   "cell_type": "code",
   "execution_count": 2,
   "metadata": {},
   "outputs": [
    {
     "ename": "NoSuchWindowException",
     "evalue": "Message: no such window: target window already closed\nfrom unknown error: web view not found\n  (Session info: chrome=109.0.5414.75)\nStacktrace:\nBacktrace:\n\t(No symbol) [0x011BF243]\n\t(No symbol) [0x01147FD1]\n\t(No symbol) [0x0103D04D]\n\t(No symbol) [0x01022D7A]\n\t(No symbol) [0x0108BE7B]\n\t(No symbol) [0x0109C196]\n\t(No symbol) [0x01088386]\n\t(No symbol) [0x0106163C]\n\t(No symbol) [0x0106269D]\n\tGetHandleVerifier [0x01459A22+2655074]\n\tGetHandleVerifier [0x0144CA24+2601828]\n\tGetHandleVerifier [0x01268C0A+619850]\n\tGetHandleVerifier [0x01267830+614768]\n\t(No symbol) [0x011505FC]\n\t(No symbol) [0x01155968]\n\t(No symbol) [0x01155A55]\n\t(No symbol) [0x0116051B]\n\tBaseThreadInitThunk [0x76F000F9+25]\n\tRtlGetAppContainerNamedObjectPath [0x770A7BBE+286]\n\tRtlGetAppContainerNamedObjectPath [0x770A7B8E+238]\n",
     "output_type": "error",
     "traceback": [
      "\u001b[1;31m---------------------------------------------------------------------------\u001b[0m",
      "\u001b[1;31mNoSuchWindowException\u001b[0m                     Traceback (most recent call last)",
      "Cell \u001b[1;32mIn [2], line 11\u001b[0m\n\u001b[0;32m      9\u001b[0m \u001b[39m# A instituição UNB - UNIVERSIDADE DE BRASÍLIA precisa ser selecionada manualmente\u001b[39;00m\n\u001b[0;32m     10\u001b[0m wait \u001b[39m=\u001b[39m WebDriverWait(driver, \u001b[39m120\u001b[39m)\n\u001b[1;32m---> 11\u001b[0m wait\u001b[39m.\u001b[39muntil(\u001b[39mlambda\u001b[39;00m driver: driver\u001b[39m.\u001b[39mcurrent_url \u001b[39mnot\u001b[39;00m \u001b[39min\u001b[39;00m  [first, possible])\n\u001b[0;32m     13\u001b[0m time\u001b[39m.\u001b[39msleep(\u001b[39m1\u001b[39m)\n\u001b[0;32m     15\u001b[0m \u001b[39m# Login CAFe\u001b[39;00m\n",
      "File \u001b[1;32mc:\\Users\\vitor\\AppData\\Local\\Programs\\Python\\Python310\\lib\\site-packages\\selenium\\webdriver\\support\\wait.py:81\u001b[0m, in \u001b[0;36mWebDriverWait.until\u001b[1;34m(self, method, message)\u001b[0m\n\u001b[0;32m     79\u001b[0m \u001b[39mwhile\u001b[39;00m \u001b[39mTrue\u001b[39;00m:\n\u001b[0;32m     80\u001b[0m     \u001b[39mtry\u001b[39;00m:\n\u001b[1;32m---> 81\u001b[0m         value \u001b[39m=\u001b[39m method(\u001b[39mself\u001b[39;49m\u001b[39m.\u001b[39;49m_driver)\n\u001b[0;32m     82\u001b[0m         \u001b[39mif\u001b[39;00m value:\n\u001b[0;32m     83\u001b[0m             \u001b[39mreturn\u001b[39;00m value\n",
      "Cell \u001b[1;32mIn [2], line 11\u001b[0m, in \u001b[0;36m<lambda>\u001b[1;34m(driver)\u001b[0m\n\u001b[0;32m      9\u001b[0m \u001b[39m# A instituição UNB - UNIVERSIDADE DE BRASÍLIA precisa ser selecionada manualmente\u001b[39;00m\n\u001b[0;32m     10\u001b[0m wait \u001b[39m=\u001b[39m WebDriverWait(driver, \u001b[39m120\u001b[39m)\n\u001b[1;32m---> 11\u001b[0m wait\u001b[39m.\u001b[39muntil(\u001b[39mlambda\u001b[39;00m driver: driver\u001b[39m.\u001b[39;49mcurrent_url \u001b[39mnot\u001b[39;00m \u001b[39min\u001b[39;00m  [first, possible])\n\u001b[0;32m     13\u001b[0m time\u001b[39m.\u001b[39msleep(\u001b[39m1\u001b[39m)\n\u001b[0;32m     15\u001b[0m \u001b[39m# Login CAFe\u001b[39;00m\n",
      "File \u001b[1;32mc:\\Users\\vitor\\AppData\\Local\\Programs\\Python\\Python310\\lib\\site-packages\\selenium\\webdriver\\remote\\webdriver.py:528\u001b[0m, in \u001b[0;36mWebDriver.current_url\u001b[1;34m(self)\u001b[0m\n\u001b[0;32m    518\u001b[0m \u001b[39m@property\u001b[39m\n\u001b[0;32m    519\u001b[0m \u001b[39mdef\u001b[39;00m \u001b[39mcurrent_url\u001b[39m(\u001b[39mself\u001b[39m) \u001b[39m-\u001b[39m\u001b[39m>\u001b[39m \u001b[39mstr\u001b[39m:\n\u001b[0;32m    520\u001b[0m     \u001b[39m\"\"\"\u001b[39;00m\n\u001b[0;32m    521\u001b[0m \u001b[39m    Gets the URL of the current page.\u001b[39;00m\n\u001b[0;32m    522\u001b[0m \n\u001b[1;32m   (...)\u001b[0m\n\u001b[0;32m    526\u001b[0m \u001b[39m            driver.current_url\u001b[39;00m\n\u001b[0;32m    527\u001b[0m \u001b[39m    \"\"\"\u001b[39;00m\n\u001b[1;32m--> 528\u001b[0m     \u001b[39mreturn\u001b[39;00m \u001b[39mself\u001b[39;49m\u001b[39m.\u001b[39;49mexecute(Command\u001b[39m.\u001b[39;49mGET_CURRENT_URL)[\u001b[39m'\u001b[39m\u001b[39mvalue\u001b[39m\u001b[39m'\u001b[39m]\n",
      "File \u001b[1;32mc:\\Users\\vitor\\AppData\\Local\\Programs\\Python\\Python310\\lib\\site-packages\\selenium\\webdriver\\remote\\webdriver.py:429\u001b[0m, in \u001b[0;36mWebDriver.execute\u001b[1;34m(self, driver_command, params)\u001b[0m\n\u001b[0;32m    427\u001b[0m response \u001b[39m=\u001b[39m \u001b[39mself\u001b[39m\u001b[39m.\u001b[39mcommand_executor\u001b[39m.\u001b[39mexecute(driver_command, params)\n\u001b[0;32m    428\u001b[0m \u001b[39mif\u001b[39;00m response:\n\u001b[1;32m--> 429\u001b[0m     \u001b[39mself\u001b[39;49m\u001b[39m.\u001b[39;49merror_handler\u001b[39m.\u001b[39;49mcheck_response(response)\n\u001b[0;32m    430\u001b[0m     response[\u001b[39m'\u001b[39m\u001b[39mvalue\u001b[39m\u001b[39m'\u001b[39m] \u001b[39m=\u001b[39m \u001b[39mself\u001b[39m\u001b[39m.\u001b[39m_unwrap_value(\n\u001b[0;32m    431\u001b[0m         response\u001b[39m.\u001b[39mget(\u001b[39m'\u001b[39m\u001b[39mvalue\u001b[39m\u001b[39m'\u001b[39m, \u001b[39mNone\u001b[39;00m))\n\u001b[0;32m    432\u001b[0m     \u001b[39mreturn\u001b[39;00m response\n",
      "File \u001b[1;32mc:\\Users\\vitor\\AppData\\Local\\Programs\\Python\\Python310\\lib\\site-packages\\selenium\\webdriver\\remote\\errorhandler.py:243\u001b[0m, in \u001b[0;36mErrorHandler.check_response\u001b[1;34m(self, response)\u001b[0m\n\u001b[0;32m    241\u001b[0m         alert_text \u001b[39m=\u001b[39m value[\u001b[39m'\u001b[39m\u001b[39malert\u001b[39m\u001b[39m'\u001b[39m]\u001b[39m.\u001b[39mget(\u001b[39m'\u001b[39m\u001b[39mtext\u001b[39m\u001b[39m'\u001b[39m)\n\u001b[0;32m    242\u001b[0m     \u001b[39mraise\u001b[39;00m exception_class(message, screen, stacktrace, alert_text)  \u001b[39m# type: ignore[call-arg]  # mypy is not smart enough here\u001b[39;00m\n\u001b[1;32m--> 243\u001b[0m \u001b[39mraise\u001b[39;00m exception_class(message, screen, stacktrace)\n",
      "\u001b[1;31mNoSuchWindowException\u001b[0m: Message: no such window: target window already closed\nfrom unknown error: web view not found\n  (Session info: chrome=109.0.5414.75)\nStacktrace:\nBacktrace:\n\t(No symbol) [0x011BF243]\n\t(No symbol) [0x01147FD1]\n\t(No symbol) [0x0103D04D]\n\t(No symbol) [0x01022D7A]\n\t(No symbol) [0x0108BE7B]\n\t(No symbol) [0x0109C196]\n\t(No symbol) [0x01088386]\n\t(No symbol) [0x0106163C]\n\t(No symbol) [0x0106269D]\n\tGetHandleVerifier [0x01459A22+2655074]\n\tGetHandleVerifier [0x0144CA24+2601828]\n\tGetHandleVerifier [0x01268C0A+619850]\n\tGetHandleVerifier [0x01267830+614768]\n\t(No symbol) [0x011505FC]\n\t(No symbol) [0x01155968]\n\t(No symbol) [0x01155A55]\n\t(No symbol) [0x0116051B]\n\tBaseThreadInitThunk [0x76F000F9+25]\n\tRtlGetAppContainerNamedObjectPath [0x770A7BBE+286]\n\tRtlGetAppContainerNamedObjectPath [0x770A7B8E+238]\n"
     ]
    }
   ],
   "source": [
    "# Open Web Of Science\n",
    "first = 'https://www-periodicos-capes-gov-br.ez54.periodicos.capes.gov.br/index.php/acesso-cafe.html'\n",
    "possible = 'https://www-periodicos-capes-gov-br.ezl.periodicos.capes.gov.br/index.php/acesso-cafe.html'\n",
    "path = os.getcwd() + '\\\\chromedriver.exe'\n",
    "service = Service(executable_path=path)\n",
    "driver = webdriver.Chrome(service=service)\n",
    "driver.get(first)\n",
    "\n",
    "# A instituição UNB - UNIVERSIDADE DE BRASÍLIA precisa ser selecionada manualmente\n",
    "wait = WebDriverWait(driver, 120)\n",
    "wait.until(lambda driver: driver.current_url not in  [first, possible])\n",
    "\n",
    "time.sleep(1)\n",
    "\n",
    "# Login CAFe\n",
    "username = \"190096535\"\n",
    "password = \"ZFZV1167\"\n",
    "driver.find_element(by='xpath', value='//input[@id=\"username\"]').send_keys(username)\n",
    "driver.find_element(by='xpath', value='//input[@id=\"password\"]').send_keys(password)\n",
    "driver.find_element(by='xpath', value='//button[@class=\"btn btn-primary btn-block mb-1\"]').click()"
   ]
  },
  {
   "cell_type": "code",
   "execution_count": 28,
   "metadata": {},
   "outputs": [],
   "source": [
    "# Login Web Of Science\n",
    "\n",
    "driver.get('https://www.webofscience.com/wos/woscc/advanced-search')\n",
    "time.sleep(1)\n",
    "try:\n",
    "    driver.find_element(by='xpath', value='//button[@id=\"onetrust-accept-btn-handler\"]').click()\n",
    "except:\n",
    "    None\n",
    "\n",
    "username = \"vitorbborges@terra.com.br\"\n",
    "password = \"Mb196620!\"\n",
    "driver.find_element(by='xpath', value='//input[@id=\"mat-input-0\"]').send_keys(username)\n",
    "driver.find_element(by='xpath', value='//input[@id=\"mat-input-1\"]').send_keys(password)\n",
    "driver.find_element(by='xpath', value='//button[@class=\"wui-btn--login mat-focus-indicator mat-flat-button mat-button-base mat-primary\"]').click()\n",
    "\n",
    "time.sleep(1)\n"
   ]
  },
  {
   "attachments": {},
   "cell_type": "markdown",
   "metadata": {},
   "source": [
    "# Advanced Search"
   ]
  },
  {
   "cell_type": "code",
   "execution_count": 36,
   "metadata": {},
   "outputs": [],
   "source": [
    "def download_data(name, query):\n",
    "\n",
    "    # Select Databases\n",
    "    driver.get('https://www.webofscience.com/wos/woscc/advanced-search')\n",
    "    driver.find_element(by='xpath', value='//*[@id=\"advancedSearchInputArea\"]').clear()\n",
    "    driver.find_element(by='xpath', value='//*[@id=\"advancedSearchInputArea\"]').send_keys(query)\n",
    "    driver.find_element(by='xpath', value='//button[@class=\"mat-focus-indicator search mat-flat-button mat-button-base mat-primary ng-star-inserted\"]').click()\n",
    "    time.sleep(5)\n",
    "    n_results = driver.find_element(by='xpath', value='//html/body/app-wos/main/div/div/div[2]/div/div/div[2]/app-input-route/app-base-summary-component/app-search-friendly-display/div[1]/app-general-search-friendly-display/h1/span')\n",
    "    n_results = int(n_results.text.split(',')[0])+1\n",
    "    n_results *= 1000\n",
    "    \n",
    "    # Download Data\n",
    "    origin = r'C:\\Users\\vitor\\Downloads'\n",
    "    target = r'C:\\Users\\vitor\\Desktop\\Education\\PET\\monografia-PET22\\database\\temp'\n",
    "\n",
    "    for file in [f for f in os.listdir(origin) if f[:9] == 'savedrecs']:\n",
    "        os.remove(os.path.join(origin, file))\n",
    "\n",
    "    for i in range(1,n_results,1000):\n",
    "        #driver.find_element(by='xpath', value='//html').click()\n",
    "        time.sleep(3)\n",
    "        driver.find_element(by='xpath', value='//*[@id=\"snRecListTop\"]/app-export-menu/div/button').click()\n",
    "        time.sleep(2)\n",
    "        driver.find_element(by='xpath', value='//*[@id=\"exportToExcelButton\"]').click()\n",
    "        time.sleep(1)\n",
    "        driver.find_element(by='xpath', value='//*[@id=\"radio3\"]/label/span[1]').click()\n",
    "        begin_xpath = '/html/body/app-wos/main/div/div/div[2]/div/div/div[2]/app-input-route[1]/app-export-overlay/div/div[3]/div[2]/app-export-out-details/div/div[2]/form/div/fieldset/mat-radio-group/div[3]/mat-form-field[1]/div/div[1]/div[3]/input'\n",
    "        end_xpath = '/html/body/app-wos/main/div/div/div[2]/div/div/div[2]/app-input-route[1]/app-export-overlay/div/div[3]/div[2]/app-export-out-details/div/div[2]/form/div/fieldset/mat-radio-group/div[3]/mat-form-field[2]/div/div[1]/div[3]/input'\n",
    "        time.sleep(1)\n",
    "        driver.find_element(by='xpath', value=begin_xpath).clear()\n",
    "        driver.find_element(by='xpath', value=end_xpath).clear()\n",
    "        driver.find_element(by='xpath', value=begin_xpath).send_keys(i)\n",
    "        driver.find_element(by='xpath', value=end_xpath).send_keys(i+999)\n",
    "        time.sleep(2)\n",
    "        driver.find_element(by='xpath', value='//button[@class=\"dropdown\"]').click()\n",
    "        driver.find_element(by='xpath', value='//*[@id=\"global-select\"]/div/div[2]/div[2]').click()\n",
    "\n",
    "        # Export\n",
    "        driver.find_element(by='xpath', value='//button[@class=\"mat-focus-indicator mat-flat-button mat-button-base mat-primary\"]').click()\n",
    "        time.sleep(6)\n",
    "\n",
    "    time.sleep(1)\n",
    "    # Move Files\n",
    "\n",
    "    os.makedirs('./temp', exist_ok=True)\n",
    "    origin = r'C:\\Users\\vitor\\Downloads'\n",
    "    target = r'C:\\Users\\vitor\\Desktop\\Education\\PET\\monografia-PET22\\database\\temp'\n",
    "    for file in [f for f in os.listdir(origin) if f[:9] == 'savedrecs']:\n",
    "        shutil.move(os.path.join(origin, file), os.path.join(target, file))\n",
    "\n",
    "    time.sleep(1)\n",
    "\n",
    "    # Merge Files\n",
    "\n",
    "    df=pd.DataFrame()\n",
    "\n",
    "    for i in os.listdir('./temp'):\n",
    "        dfp = pd.read_excel('./temp/' + i)\n",
    "        df = pd.concat([df,dfp])\n",
    "        \n",
    "    df.to_csv(f'venues/{name}.csv', index=False)\n",
    "    shutil.rmtree('./temp')\n",
    "    time.sleep(3)"
   ]
  },
  {
   "cell_type": "code",
   "execution_count": 37,
   "metadata": {},
   "outputs": [],
   "source": [
    "# 1. Build Query\n",
    "\n",
    "databases = pd.read_csv('query_dataframe.csv')\n",
    "databases = databases[databases['Query WoS'].notna()].reset_index(drop=True)\n",
    "\n",
    "for conf in range(len(databases)):\n",
    "    name = databases['SIGLA'][conf]\n",
    "    query = databases['Query WoS'][conf]\n",
    "\n",
    "    if name+'.csv' not in os.listdir('./venues'):\n",
    "        try:\n",
    "            download_data(name,query)\n",
    "        except:\n",
    "            download_data(name,query)"
   ]
  },
  {
   "cell_type": "code",
   "execution_count": null,
   "metadata": {},
   "outputs": [],
   "source": []
  }
 ],
 "metadata": {
  "kernelspec": {
   "display_name": "Python 3.10.4 64-bit",
   "language": "python",
   "name": "python3"
  },
  "language_info": {
   "codemirror_mode": {
    "name": "ipython",
    "version": 3
   },
   "file_extension": ".py",
   "mimetype": "text/x-python",
   "name": "python",
   "nbconvert_exporter": "python",
   "pygments_lexer": "ipython3",
   "version": "3.10.4"
  },
  "orig_nbformat": 4,
  "vscode": {
   "interpreter": {
    "hash": "5fe3e6f0cdaab8afdc61c52912fda83f7c0a71baaea1897dd7498e2df01e69ec"
   }
  }
 },
 "nbformat": 4,
 "nbformat_minor": 2
}
